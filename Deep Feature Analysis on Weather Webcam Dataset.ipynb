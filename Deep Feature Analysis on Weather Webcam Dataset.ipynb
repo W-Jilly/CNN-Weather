{
 "cells": [
  {
   "cell_type": "markdown",
   "metadata": {},
   "source": [
    "# Deep Feature Analysis on Weather Webcam Dataset"
   ]
  },
  {
   "cell_type": "code",
   "execution_count": 16,
   "metadata": {
    "collapsed": false
   },
   "outputs": [],
   "source": [
    "import os\n",
    "import glob\n",
    "import scipy.io as io\n",
    "import numpy as np\n",
    "import sklearn\n",
    "import sklearn.svm\n",
    "import sys\n",
    "import matplotlib.pyplot as plt\n",
    "%matplotlib inline \n",
    "import pylab\n",
    "from sklearn.model_selection import train_test_split\n",
    "import random\n",
    "from sklearn.metrics import accuracy_score, precision_score, roc_curve, auc, confusion_matrix\n",
    "import sklearn.decomposition"
   ]
  },
  {
   "cell_type": "code",
   "execution_count": 2,
   "metadata": {
    "collapsed": false
   },
   "outputs": [],
   "source": [
    "caffe_root = '/Users/jillwang/Documents/caffe/'  # this file should be run from {caffe_root}/examples (otherwise change this line)\n",
    "#sys.path.insert(0, caffe_root + 'python')\n",
    "import caffe"
   ]
  },
  {
   "cell_type": "markdown",
   "metadata": {},
   "source": [
    "Set path"
   ]
  },
  {
   "cell_type": "code",
   "execution_count": 3,
   "metadata": {
    "collapsed": true
   },
   "outputs": [],
   "source": [
    "project_root = os.path.expanduser('~/Documents/Deep-Features-or-Not/')\n",
    "VGG16_caffemodel_path = os.path.join(project_root, 'VGG16','VGG_ILSVRC_16_layers.caffemodel')\n",
    "VGG16_deploy_path = os.path.join(project_root, 'VGG16','VGG_ILSVRC_16_layers_deploy.prototxt')\n",
    "alex_deploy_path = os.path.join(caffe_root, 'models/bvlc_reference_caffenet/deploy.prototxt')\n",
    "alex_caffemodel_path = os.path.join(caffe_root, 'models/bvlc_reference_caffenet/bvlc_reference_caffenet.caffemodel')\n",
    "data_root = os.path.join(project_root, 'Weather')"
   ]
  },
  {
   "cell_type": "markdown",
   "metadata": {},
   "source": [
    "Set CPU/GPU mode"
   ]
  },
  {
   "cell_type": "code",
   "execution_count": 4,
   "metadata": {
    "collapsed": true
   },
   "outputs": [],
   "source": [
    "gpu_id = None\n",
    "if gpu_id != None:\n",
    "    caffe.set_device(0)  # if we have multiple GPUs, pick the first one\n",
    "    caffe.set_mode_gpu()\n",
    "else:\n",
    "    caffe.set_mode_cpu()"
   ]
  },
  {
   "cell_type": "markdown",
   "metadata": {},
   "source": [
    "## Data Preparation"
   ]
  },
  {
   "cell_type": "markdown",
   "metadata": {},
   "source": [
    "prepare the images"
   ]
  },
  {
   "cell_type": "code",
   "execution_count": 5,
   "metadata": {
    "collapsed": false
   },
   "outputs": [],
   "source": [
    "def get_labels(pos_fnames, neg_fnames):\n",
    "    '''\n",
    "    generate positive and negative labels in ndarrays\n",
    "    '''\n",
    "    assert isinstance(pos_fnames, list) and isinstance(neg_fnames, list)\n",
    "\n",
    "    pos_lab = np.ones(len(pos_fnames))\n",
    "    neg_lab = np.zeros(len(neg_fnames))\n",
    "    labels = np.concatenate([pos_lab,neg_lab])\n",
    "    return labels"
   ]
  },
  {
   "cell_type": "code",
   "execution_count": 6,
   "metadata": {
    "collapsed": false
   },
   "outputs": [
    {
     "name": "stdout",
     "output_type": "stream",
     "text": [
      "number of rain images:  6059\n",
      "number of no rain images:  17915\n"
     ]
    }
   ],
   "source": [
    "neg_img_fnames = sorted(glob.glob(os.path.join(data_root, 'train', 'noRain', '*n*.jpg')))\n",
    "pos_img_fnames = sorted(glob.glob(os.path.join(data_root, 'train', 'rain', '*r*.jpg')))\n",
    "print \"number of rain images: \", len(pos_img_fnames)\n",
    "print \"number of no rain images: \", len(neg_img_fnames)"
   ]
  },
  {
   "cell_type": "markdown",
   "metadata": {},
   "source": [
    "Downsampling the images (optional)"
   ]
  },
  {
   "cell_type": "code",
   "execution_count": 7,
   "metadata": {
    "collapsed": false
   },
   "outputs": [],
   "source": [
    "neg_img_fnames = random.sample(neg_img_fnames, 8000)\n",
    "pos_img_fnames = random.sample(pos_img_fnames, 4000)"
   ]
  },
  {
   "cell_type": "markdown",
   "metadata": {},
   "source": [
    "Cross_validation Splitting"
   ]
  },
  {
   "cell_type": "code",
   "execution_count": 8,
   "metadata": {
    "collapsed": false
   },
   "outputs": [],
   "source": [
    "img_fnames = pos_img_fnames + neg_img_fnames \n",
    "lab = get_labels(pos_img_fnames, neg_img_fnames)\n",
    "X_train, X_test, y_train, y_test = train_test_split(img_fnames, lab, test_size=0.2)"
   ]
  },
  {
   "cell_type": "markdown",
   "metadata": {},
   "source": [
    "## Model Preparation"
   ]
  },
  {
   "cell_type": "markdown",
   "metadata": {
    "collapsed": true
   },
   "source": [
    "prepare the image mean file"
   ]
  },
  {
   "cell_type": "code",
   "execution_count": 9,
   "metadata": {
    "collapsed": false
   },
   "outputs": [
    {
     "name": "stdout",
     "output_type": "stream",
     "text": [
      "Using imagenet mean pixel\n"
     ]
    }
   ],
   "source": [
    "mean_npy = None\n",
    "if mean_npy is None:\n",
    "    mean_npy = caffe_root + 'python/caffe/imagenet/ilsvrc_2012_mean.npy'\n",
    "    print('Using imagenet mean pixel')\n",
    "else:\n",
    "    print('Using custom mean')"
   ]
  },
  {
   "cell_type": "markdown",
   "metadata": {},
   "source": [
    "Init caffe model and the input image dimension"
   ]
  },
  {
   "cell_type": "code",
   "execution_count": 10,
   "metadata": {
    "collapsed": true
   },
   "outputs": [],
   "source": [
    "def init(caffe_deploy_prototxt, caffe_weights, mean_npy, image_dims=[256, 256]):\n",
    "    '''\n",
    "    Sets up deploy version of the caffe model in python according to caffe_deploy_prototxt, \n",
    "    and loads the pretrained/finetuned weights from caffe_weights (a .caffemodel file)\n",
    "    mean_npy is the mean image over the dataset.\n",
    "    Set up input preprocessing the same as in \"00-classification\"\n",
    "    '''\n",
    "    net = caffe.Classifier(caffe_deploy_prototxt, caffe_weights, image_dims = image_dims)\n",
    "    # input preprocessing: 'data' is the name of the input blob == net.inputs[0]\n",
    "    net.transformer.set_mean('data', np.load(mean_npy).mean(1).mean(1)) # mean pixel\n",
    "    net.transformer.set_raw_scale('data', 255)  # the reference model operates on images in [0,255] range instead of [0,1]\n",
    "    net.transformer.set_channel_swap('data', (2,1,0))  # the reference model has channels in BGR order instead of RGB\n",
    "    return net"
   ]
  },
  {
   "cell_type": "code",
   "execution_count": 11,
   "metadata": {
    "collapsed": true
   },
   "outputs": [],
   "source": [
    "caffe_deploy_prototxt = VGG16_deploy_path\n",
    "caffe_weights = VGG16_caffemodel_path\n",
    "net = init(caffe_deploy_prototxt, caffe_weights, mean_npy)"
   ]
  },
  {
   "cell_type": "markdown",
   "metadata": {},
   "source": [
    "## Feature Extraction from Scratch"
   ]
  },
  {
   "cell_type": "code",
   "execution_count": 54,
   "metadata": {
    "collapsed": true
   },
   "outputs": [],
   "source": [
    "layers_to_extract = ['pool3']"
   ]
  },
  {
   "cell_type": "markdown",
   "metadata": {},
   "source": [
    "Image cropping and preprocessing"
   ]
  },
  {
   "cell_type": "code",
   "execution_count": 55,
   "metadata": {
    "collapsed": false
   },
   "outputs": [],
   "source": [
    "def getDeepFeatureLayers(net, imgPath, layers, isRandomCrop = False):\n",
    "    \n",
    "    def preprocess(net, imgPath):\n",
    "        '''\n",
    "        preprocess the image by resizing it to image_dims and performing one of the croppings in a random way:\n",
    "        center, corners, and mirrors\n",
    "        '''\n",
    "        input_ = caffe.io.load_image(imgPath)\n",
    "        input_ = caffe.io.resize_image(input_, net.image_dims)\n",
    "        input_ = caffe.io.oversample(input_[np.newaxis,:], net.crop_dims)\n",
    "        if isRandomCrop:\n",
    "            input_ = randomCrop(input_)\n",
    "        caffe_in = np.zeros(np.array(input_.shape)[[0, 3, 1, 2]],\n",
    "                    dtype=np.float32)\n",
    "        for ix, in_ in enumerate(input_):\n",
    "            caffe_in[ix] = net.transformer.preprocess('data', in_)\n",
    "\n",
    "        return caffe_in\n",
    "    \n",
    "    def randomCrop(in_):\n",
    "        '''\n",
    "        selecting one of the croppings in a random way (center, corners, and mirrors)\n",
    "        in_ : image data with augmentation (10 crops)\n",
    "        '''        \n",
    "        index = np.random.randint(10, size = len(in_)/10) + np.array(range(0, len(in_)/10))*10\n",
    "        in_ = in_[index] \n",
    "        \n",
    "        return in_\n",
    "    \n",
    "    def accessBlob(net, layer):\n",
    "        deep_feature = net.blobs[layer].data\n",
    "        deep_feature = deep_feature.squeeze()\n",
    "        if not isRandomCrop:\n",
    "            deep_feature = deep_feature.mean(0)     \n",
    "\n",
    "        if len(deep_feature.shape)>1:\n",
    "            deep_feature=np.hstack(np.hstack(deep_feature))\n",
    "        return deep_feature\n",
    "    \n",
    "    if isRandomCrop:\n",
    "        net.blobs['data'].reshape(1, 3, net.crop_dims[0], net.crop_dims[1])\n",
    "    else:\n",
    "        net.blobs['data'].reshape(10, 3, net.crop_dims[0], net.crop_dims[1])            \n",
    "    out = net.forward_all(**{'data': preprocess(net, imgPath)})\n",
    "    df = [accessBlob(net, layer) for layer in layers]    \n",
    "    return df"
   ]
  },
  {
   "cell_type": "code",
   "execution_count": 56,
   "metadata": {
    "collapsed": false
   },
   "outputs": [],
   "source": [
    "def retrieve_features(net, img_fnames, layer, isRandomCrop = False):\n",
    "    '''\n",
    "    Takes images in img_fnames, gets the neural activations of each image\n",
    "    in layer, and returns a numpy matrix, saving the individual features along the way\n",
    "    '''\n",
    "\n",
    "\n",
    "    assert isinstance(img_fnames, list)\n",
    "    assert isinstance(layer, list)\n",
    "    print(\"Getting {} layer features\".format(layer))    \n",
    "\n",
    "    f1 = getDeepFeatureLayers(net, img_fnames[0], layer, isRandomCrop)\n",
    "    nfet = len(layer)\n",
    "    features = []\n",
    "    for i in range(nfet):\n",
    "        dim = np.atleast_1d(f1[i]).shape[0]\n",
    "        features = features + [np.zeros((len(img_fnames), dim), dtype = np.float64, order = 'C')]\n",
    "\n",
    "    for i, fname in enumerate(img_fnames):\n",
    "        for j in range(nfet):\n",
    "            features[j][i, :] = np.atleast_1d(getDeepFeatureLayers(net, fname, layer, isRandomCrop)[j])\n",
    "        if i % (len(img_fnames)/50) == 0:\n",
    "            print(\"{:2.2f}% of the computation has done.\".format(float(i)/len(img_fnames)*100))\n",
    "        \n",
    "    return features"
   ]
  },
  {
   "cell_type": "markdown",
   "metadata": {},
   "source": [
    "Feature extraction starts..."
   ]
  },
  {
   "cell_type": "code",
   "execution_count": 57,
   "metadata": {
    "collapsed": false
   },
   "outputs": [
    {
     "name": "stdout",
     "output_type": "stream",
     "text": [
      "Getting ['pool3'] layer features\n",
      "0.00% of the computation has done.\n",
      "2.00% of the computation has done.\n",
      "4.00% of the computation has done.\n",
      "6.00% of the computation has done.\n",
      "8.00% of the computation has done.\n",
      "10.00% of the computation has done.\n",
      "12.00% of the computation has done.\n",
      "14.00% of the computation has done.\n",
      "16.00% of the computation has done.\n",
      "18.00% of the computation has done.\n",
      "20.00% of the computation has done.\n",
      "22.00% of the computation has done.\n",
      "24.00% of the computation has done.\n",
      "26.00% of the computation has done.\n",
      "28.00% of the computation has done.\n",
      "30.00% of the computation has done.\n",
      "32.00% of the computation has done.\n",
      "34.00% of the computation has done.\n",
      "36.00% of the computation has done.\n",
      "38.00% of the computation has done.\n",
      "40.00% of the computation has done.\n",
      "42.00% of the computation has done.\n",
      "44.00% of the computation has done.\n",
      "46.00% of the computation has done.\n",
      "48.00% of the computation has done.\n",
      "50.00% of the computation has done.\n",
      "52.00% of the computation has done.\n",
      "54.00% of the computation has done.\n",
      "56.00% of the computation has done.\n",
      "58.00% of the computation has done.\n",
      "60.00% of the computation has done.\n",
      "62.00% of the computation has done.\n",
      "64.00% of the computation has done.\n",
      "66.00% of the computation has done.\n",
      "68.00% of the computation has done.\n",
      "70.00% of the computation has done.\n",
      "72.00% of the computation has done.\n",
      "74.00% of the computation has done.\n",
      "76.00% of the computation has done.\n",
      "78.00% of the computation has done.\n",
      "80.00% of the computation has done.\n",
      "82.00% of the computation has done.\n",
      "84.00% of the computation has done.\n",
      "86.00% of the computation has done.\n",
      "88.00% of the computation has done.\n",
      "90.00% of the computation has done.\n",
      "92.00% of the computation has done.\n",
      "94.00% of the computation has done.\n",
      "96.00% of the computation has done.\n",
      "98.00% of the computation has done.\n",
      "Getting ['pool3'] layer features\n",
      "0.00% of the computation has done.\n",
      "2.00% of the computation has done.\n",
      "4.00% of the computation has done.\n",
      "6.00% of the computation has done.\n",
      "8.00% of the computation has done.\n",
      "10.00% of the computation has done.\n",
      "12.00% of the computation has done.\n",
      "14.00% of the computation has done.\n",
      "16.00% of the computation has done.\n",
      "18.00% of the computation has done.\n",
      "20.00% of the computation has done.\n",
      "22.00% of the computation has done.\n",
      "24.00% of the computation has done.\n",
      "26.00% of the computation has done.\n",
      "28.00% of the computation has done.\n",
      "30.00% of the computation has done.\n",
      "32.00% of the computation has done.\n",
      "34.00% of the computation has done.\n",
      "36.00% of the computation has done.\n",
      "38.00% of the computation has done.\n",
      "40.00% of the computation has done.\n",
      "42.00% of the computation has done.\n",
      "44.00% of the computation has done.\n",
      "46.00% of the computation has done.\n",
      "48.00% of the computation has done.\n",
      "50.00% of the computation has done.\n",
      "52.00% of the computation has done.\n",
      "54.00% of the computation has done.\n",
      "56.00% of the computation has done.\n",
      "58.00% of the computation has done.\n",
      "60.00% of the computation has done.\n",
      "62.00% of the computation has done.\n",
      "64.00% of the computation has done.\n",
      "66.00% of the computation has done.\n",
      "68.00% of the computation has done.\n",
      "70.00% of the computation has done.\n",
      "72.00% of the computation has done.\n",
      "74.00% of the computation has done.\n",
      "76.00% of the computation has done.\n",
      "78.00% of the computation has done.\n",
      "80.00% of the computation has done.\n",
      "82.00% of the computation has done.\n",
      "84.00% of the computation has done.\n",
      "86.00% of the computation has done.\n",
      "88.00% of the computation has done.\n",
      "90.00% of the computation has done.\n",
      "92.00% of the computation has done.\n",
      "94.00% of the computation has done.\n",
      "96.00% of the computation has done.\n",
      "98.00% of the computation has done.\n"
     ]
    }
   ],
   "source": [
    "fet = retrieve_features(net, X_train, layers_to_extract, isRandomCrop = True)\n",
    "tst_fet = retrieve_features(net, X_test, layers_to_extract, isRandomCrop = True)"
   ]
  },
  {
   "cell_type": "markdown",
   "metadata": {},
   "source": [
    "## Write Feature to the File"
   ]
  },
  {
   "cell_type": "code",
   "execution_count": 28,
   "metadata": {
    "collapsed": false
   },
   "outputs": [],
   "source": [
    "def write_features(dflist, img_fnames, layers, save_directory):\n",
    "    assert isinstance(img_fnames, list)\n",
    "    assert isinstance(layers, list)\n",
    "    for layer in layers:\n",
    "        layer_directory = os.path.join(save_directory, layer)\n",
    "        if not os.path.isdir(layer_directory):\n",
    "            os.makedirs(layer_directory)\n",
    "\n",
    "    print(\"extracting\")\n",
    "    n = len(img_fnames)\n",
    "    for i, fname in enumerate(img_fnames):\n",
    "        name = os.path.basename(fname)[:-4]\n",
    "        compute = False\n",
    "        for layer in layers:\n",
    "            out_file = os.path.join(save_directory, layer, name + '.txt')\n",
    "            if not os.path.isfile(out_file):\n",
    "                compute = True # in case any of the features is not computed, we just extract them all\n",
    "                break\n",
    "        if compute:\n",
    "            #print(save_directory)\n",
    "            #print(\"{}, {} of {}\".format(name, i, n))\n",
    "            for df, layer in zip(dflist, layers):\n",
    "                df = np.atleast_1d(df[i,])\n",
    "                out_file = os.path.join(save_directory, layer, name + '.txt')\n",
    "                if not os.path.isfile(out_file):\n",
    "                    with open(out_file,'w') as f:\n",
    "                        for idx in range(df.shape[0]):\n",
    "                            f.write('%5.10f ' % df[idx])\n",
    "\n"
   ]
  },
  {
   "cell_type": "code",
   "execution_count": 29,
   "metadata": {
    "collapsed": false
   },
   "outputs": [
    {
     "name": "stdout",
     "output_type": "stream",
     "text": [
      "extracting\n"
     ]
    },
    {
     "ename": "IOError",
     "evalue": "[Errno 28] No space left on device",
     "output_type": "error",
     "traceback": [
      "\u001b[0;31m---------------------------------------------------------------------------\u001b[0m",
      "\u001b[0;31mIOError\u001b[0m                                   Traceback (most recent call last)",
      "\u001b[0;32m<ipython-input-29-75ac4a034385>\u001b[0m in \u001b[0;36m<module>\u001b[0;34m()\u001b[0m\n\u001b[0;32m----> 1\u001b[0;31m \u001b[0mwrite_features\u001b[0m\u001b[0;34m(\u001b[0m\u001b[0mfet\u001b[0m\u001b[0;34m,\u001b[0m \u001b[0mX_train\u001b[0m\u001b[0;34m,\u001b[0m \u001b[0;34m[\u001b[0m\u001b[0;34m'pool5'\u001b[0m\u001b[0;34m]\u001b[0m\u001b[0;34m,\u001b[0m \u001b[0mos\u001b[0m\u001b[0;34m.\u001b[0m\u001b[0mpath\u001b[0m\u001b[0;34m.\u001b[0m\u001b[0mjoin\u001b[0m\u001b[0;34m(\u001b[0m\u001b[0mdata_root\u001b[0m\u001b[0;34m,\u001b[0m \u001b[0;34m'train_feature'\u001b[0m\u001b[0;34m)\u001b[0m\u001b[0;34m)\u001b[0m\u001b[0;34m\u001b[0m\u001b[0m\n\u001b[0m\u001b[1;32m      2\u001b[0m \u001b[0mwrite_features\u001b[0m\u001b[0;34m(\u001b[0m\u001b[0mtst_fet\u001b[0m\u001b[0;34m,\u001b[0m \u001b[0mX_test\u001b[0m\u001b[0;34m,\u001b[0m \u001b[0;34m[\u001b[0m\u001b[0;34m'pool5'\u001b[0m\u001b[0;34m]\u001b[0m\u001b[0;34m,\u001b[0m \u001b[0mos\u001b[0m\u001b[0;34m.\u001b[0m\u001b[0mpath\u001b[0m\u001b[0;34m.\u001b[0m\u001b[0mjoin\u001b[0m\u001b[0;34m(\u001b[0m\u001b[0mdata_root\u001b[0m\u001b[0;34m,\u001b[0m \u001b[0;34m'tst_feature'\u001b[0m\u001b[0;34m)\u001b[0m\u001b[0;34m)\u001b[0m\u001b[0;34m\u001b[0m\u001b[0m\n",
      "\u001b[0;32m<ipython-input-28-3980ae0bb36e>\u001b[0m in \u001b[0;36mwrite_features\u001b[0;34m(dflist, img_fnames, layers, save_directory)\u001b[0m\n\u001b[1;32m     26\u001b[0m                     \u001b[0;32mwith\u001b[0m \u001b[0mopen\u001b[0m\u001b[0;34m(\u001b[0m\u001b[0mout_file\u001b[0m\u001b[0;34m,\u001b[0m\u001b[0;34m'w'\u001b[0m\u001b[0;34m)\u001b[0m \u001b[0;32mas\u001b[0m \u001b[0mf\u001b[0m\u001b[0;34m:\u001b[0m\u001b[0;34m\u001b[0m\u001b[0m\n\u001b[1;32m     27\u001b[0m                         \u001b[0;32mfor\u001b[0m \u001b[0midx\u001b[0m \u001b[0;32min\u001b[0m \u001b[0mrange\u001b[0m\u001b[0;34m(\u001b[0m\u001b[0mdf\u001b[0m\u001b[0;34m.\u001b[0m\u001b[0mshape\u001b[0m\u001b[0;34m[\u001b[0m\u001b[0;36m0\u001b[0m\u001b[0;34m]\u001b[0m\u001b[0;34m)\u001b[0m\u001b[0;34m:\u001b[0m\u001b[0;34m\u001b[0m\u001b[0m\n\u001b[0;32m---> 28\u001b[0;31m                             \u001b[0mf\u001b[0m\u001b[0;34m.\u001b[0m\u001b[0mwrite\u001b[0m\u001b[0;34m(\u001b[0m\u001b[0;34m'%5.10f '\u001b[0m \u001b[0;34m%\u001b[0m \u001b[0mdf\u001b[0m\u001b[0;34m[\u001b[0m\u001b[0midx\u001b[0m\u001b[0;34m]\u001b[0m\u001b[0;34m)\u001b[0m\u001b[0;34m\u001b[0m\u001b[0m\n\u001b[0m\u001b[1;32m     29\u001b[0m \u001b[0;34m\u001b[0m\u001b[0m\n",
      "\u001b[0;31mIOError\u001b[0m: [Errno 28] No space left on device"
     ]
    }
   ],
   "source": [
    "write_features(fet, X_train, ['pool5'], os.path.join(data_root, 'train_feature'))\n",
    "write_features(tst_fet, X_test, ['pool5'], os.path.join(data_root, 'tst_feature'))"
   ]
  },
  {
   "cell_type": "code",
   "execution_count": 33,
   "metadata": {
    "collapsed": false
   },
   "outputs": [
    {
     "name": "stdout",
     "output_type": "stream",
     "text": [
      "(9600, 200704)\n"
     ]
    }
   ],
   "source": [
    "print fet[0].shape"
   ]
  },
  {
   "cell_type": "markdown",
   "metadata": {},
   "source": [
    "## Classifier"
   ]
  },
  {
   "cell_type": "code",
   "execution_count": 58,
   "metadata": {
    "collapsed": false
   },
   "outputs": [],
   "source": [
    "cls_opts = {\n",
    "    'SVM': {\n",
    "            'C': 1,\n",
    "            'kernel': 'linear',\n",
    "            'probability': True\n",
    "            },\n",
    "    'Logistic': {\n",
    "                'C': 1,\n",
    "                'penalty': 'l1'\n",
    "                }\n",
    "    }"
   ]
  },
  {
   "cell_type": "code",
   "execution_count": 61,
   "metadata": {
    "collapsed": false
   },
   "outputs": [],
   "source": [
    "def eval_cls(X, y, X_test, cls_name, normalize = True, dimReduction = False, cls_opts_dict = cls_opts):        \n",
    "    '''\n",
    "    predict classification probability with designated classifier name and its parameters\n",
    "    '''\n",
    "    num_classes = len(np.unique(y))\n",
    "    \n",
    "    def call_svc():\n",
    "        return sklearn.svm.SVC(**cls_opts_dict[cls_name])\n",
    "    \n",
    "    def call_loglc():\n",
    "        return sklearn.linear_model.LogisticRegression(**cls_opts_dict[cls_name])\n",
    "    \n",
    "    classifiers = {\n",
    "        'SVM': call_svc,\n",
    "        'Logistic': call_loglc\n",
    "    }\n",
    "    \n",
    "    cls = classifiers[cls_name]()\n",
    "\n",
    "    if normalize:\n",
    "        scaler = sklearn.preprocessing.StandardScaler().fit(X)\n",
    "        X = scaler.transform(X) \n",
    "        X_test = scaler.transform(X_test)\n",
    "        \n",
    "    if dimReduction:\n",
    "        pca = sklearn.decomposition.PCA(n_components = 500, whiten = True)\n",
    "        X = pca.fit_transform(X)\n",
    "        X_test = pca.transform(X_test)\n",
    "\n",
    "    cls.fit(X, y)\n",
    "\n",
    "    pred_labels = cls.predict_proba(X_test)\n",
    "\n",
    "    return pred_labels\n"
   ]
  },
  {
   "cell_type": "markdown",
   "metadata": {},
   "source": [
    "Choosing the layer from which the feature is extracted"
   ]
  },
  {
   "cell_type": "code",
   "execution_count": 62,
   "metadata": {
    "collapsed": false
   },
   "outputs": [
    {
     "name": "stdout",
     "output_type": "stream",
     "text": [
      "0\n"
     ]
    }
   ],
   "source": [
    "layer_ = 'pool3'\n",
    "ind = layers_to_extract.index(layer_)\n",
    "print ind"
   ]
  },
  {
   "cell_type": "markdown",
   "metadata": {},
   "source": [
    "Training begins...."
   ]
  },
  {
   "cell_type": "code",
   "execution_count": null,
   "metadata": {
    "collapsed": false
   },
   "outputs": [],
   "source": [
    "pred = eval_cls(fet[ind], y_train, tst_fet[ind], 'Logistic', dimReduction = True)"
   ]
  },
  {
   "cell_type": "markdown",
   "metadata": {},
   "source": [
    "## Evaluation"
   ]
  },
  {
   "cell_type": "markdown",
   "metadata": {},
   "source": [
    "Plot ROC curve"
   ]
  },
  {
   "cell_type": "code",
   "execution_count": 50,
   "metadata": {
    "collapsed": false
   },
   "outputs": [],
   "source": [
    "def roc_plot(fpr, tpr, auc, classifier):\n",
    "    plt.figure()\n",
    "    lw = 2\n",
    "    plt.plot(fpr, tpr, color='darkorange',\n",
    "             lw=lw, label='ROC curve (area = %0.2f)' % roc_auc)\n",
    "    plt.plot([0, 1], [0, 1], color='navy', lw=lw, linestyle='--')\n",
    "    plt.xlim([0.0, 1.0])\n",
    "    plt.ylim([0.0, 1.05])\n",
    "    plt.xlabel('False Positive Rate')\n",
    "    plt.ylabel('True Positive Rate')\n",
    "    plt.title(classifier + ' ROC')\n",
    "    plt.legend(loc=\"lower right\")\n",
    "    plt.show()"
   ]
  },
  {
   "cell_type": "code",
   "execution_count": 46,
   "metadata": {
    "collapsed": false
   },
   "outputs": [
    {
     "data": {
      "image/png": "[encoded data removed]",
      "text/plain": [
       "<matplotlib.figure.Figure at 0x13ec0e2d0>"
      ]
     },
     "metadata": {},
     "output_type": "display_data"
    }
   ],
   "source": [
    "fpr, tpr, thresholds = roc_curve(y_test, pred[:, 1], pos_label=1)\n",
    "roc_auc = auc(fpr, tpr)\n",
    "roc_plot(fpr, tpr, roc_auc, 'SVM')"
   ]
  },
  {
   "cell_type": "code",
   "execution_count": 53,
   "metadata": {
    "collapsed": false
   },
   "outputs": [
    {
     "data": {
      "image/png": "[encoded data removed]",
      "text/plain": [
       "<matplotlib.figure.Figure at 0x13ee5f310>"
      ]
     },
     "metadata": {},
     "output_type": "display_data"
    }
   ],
   "source": [
    "fpr, tpr, thresholds = roc_curve(y_test, pred[:, 1], pos_label=1)\n",
    "roc_auc = auc(fpr, tpr)\n",
    "roc_plot(fpr, tpr, roc_auc, 'L1-Logistic')"
   ]
  },
  {
   "cell_type": "markdown",
   "metadata": {},
   "source": [
    "Make a copy of the prediction probability"
   ]
  },
  {
   "cell_type": "code",
   "execution_count": 401,
   "metadata": {
    "collapsed": false
   },
   "outputs": [],
   "source": [
    "y_pred = pred[:, 1]"
   ]
  },
  {
   "cell_type": "markdown",
   "metadata": {},
   "source": [
    "Accuracy and FP"
   ]
  },
  {
   "cell_type": "code",
   "execution_count": 402,
   "metadata": {
    "collapsed": false
   },
   "outputs": [
    {
     "name": "stdout",
     "output_type": "stream",
     "text": [
      "Accuracy is:  0.725416666667\n",
      "The percentage of true rain:  0.591121495327\n"
     ]
    }
   ],
   "source": [
    "y_pred[y_pred > 0.5] = 1\n",
    "y_pred[y_pred <= 0.5] = 0\n",
    "print \"Accuracy is: \", accuracy_score(y_test, y_pred)\n",
    "print \"The percentage of true rain: \", precision_score(y_test, y_pred)"
   ]
  },
  {
   "cell_type": "code",
   "execution_count": null,
   "metadata": {
    "collapsed": true
   },
   "outputs": [],
   "source": []
  }
 ],
 "metadata": {
  "kernelspec": {
   "display_name": "Python 2",
   "language": "python",
   "name": "python2"
  },
  "language_info": {
   "codemirror_mode": {
    "name": "ipython",
    "version": 2
   },
   "file_extension": ".py",
   "mimetype": "text/x-python",
   "name": "python",
   "nbconvert_exporter": "python",
   "pygments_lexer": "ipython2",
   "version": "2.7.11"
  }
 },
 "nbformat": 4,
 "nbformat_minor": 0
}
