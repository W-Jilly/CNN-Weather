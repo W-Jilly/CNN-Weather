{
 "cells": [
  {
   "cell_type": "markdown",
   "metadata": {},
   "source": [
    "# Test Python Loss Layer"
   ]
  },
  {
   "cell_type": "code",
   "execution_count": 1,
   "metadata": {
    "collapsed": true
   },
   "outputs": [],
   "source": [
    "import os\n",
    "import scipy.io as io\n",
    "import numpy as np\n",
    "import sklearn\n",
    "import sys\n",
    "import matplotlib.pyplot as plt\n",
    "%matplotlib inline \n",
    "import pylab"
   ]
  },
  {
   "cell_type": "code",
   "execution_count": 2,
   "metadata": {
    "collapsed": true
   },
   "outputs": [],
   "source": [
    "caffe_root = '/opt/caffe/'\n",
    "import caffe"
   ]
  },
  {
   "cell_type": "code",
   "execution_count": 3,
   "metadata": {
    "collapsed": true
   },
   "outputs": [],
   "source": [
    "project_root = os.path.expanduser('/workspace/Weather/')\n",
    "data_root = project_root"
   ]
  },
  {
   "cell_type": "markdown",
   "metadata": {},
   "source": [
    "Net loading and setup"
   ]
  },
  {
   "cell_type": "code",
   "execution_count": 12,
   "metadata": {},
   "outputs": [
    {
     "name": "stdout",
     "output_type": "stream",
     "text": [
      "name: \"siamese_train_val\"\r\n",
      "layer {\r\n",
      "  name: \"data1\"\r\n",
      "  type: \"Input\"\r\n",
      "  top: \"data\"\r\n",
      "  input_param { shape: { dim: 1 dim: 3 dim: 227 dim: 227 } }\r\n",
      "}\r\n",
      "layer {\r\n",
      "  name: \"data2\"\r\n",
      "  type: \"Input\"\r\n",
      "  top: \"data_p\"\r\n",
      "  input_param { shape: { dim: 1 dim: 3 dim: 227 dim: 227 } }\r\n",
      "}\r\n",
      "layer {\r\n",
      "  name: \"ip1\"\r\n",
      "  type: \"InnerProduct\"\r\n",
      "  bottom: \"data\"\r\n",
      "  top: \"ip1\"\r\n",
      "  param {\r\n",
      "    name: \"ip1_w\"\r\n",
      "    lr_mult: 1\r\n",
      "  }\r\n",
      "  param {\r\n",
      "    name: \"ip1_b\"\r\n",
      "    lr_mult: 2\r\n",
      "  }\r\n",
      "  inner_product_param {\r\n",
      "    num_output: 2\r\n",
      "    weight_filler {\r\n",
      "      type: \"xavier\"\r\n",
      "    }\r\n",
      "    bias_filler {\r\n",
      "      type: \"constant\"\r\n",
      "    }\r\n",
      "  }\r\n",
      "}\r\n",
      "layer {\r\n",
      "  name: \"relu1\"\r\n",
      "  type: \"ReLU\"\r\n",
      "  bottom: \"ip1\"\r\n",
      "  top: \"ip1\"\r\n",
      "}\r\n",
      "layer {\r\n",
      "  name: \"ip2\"\r\n",
      "  type: \"InnerProduct\"\r\n",
      "  bottom: \"ip1\"\r\n",
      "  top: \"ip2\"\r\n",
      "  param {\r\n",
      "    name: \"ip2_w\"\r\n",
      "    lr_mult: 1\r\n",
      "  }\r\n",
      "  param {\r\n",
      "    name: \"ip2_b\"\r\n",
      "    lr_mult: 2\r\n",
      "  }\r\n",
      "  inner_product_param {\r\n",
      "    num_output: 1\r\n",
      "    weight_filler {\r\n",
      "      type: \"xavier\"\r\n",
      "    }\r\n",
      "    bias_filler {\r\n",
      "      type: \"constant\"\r\n",
      "    }\r\n",
      "  }\r\n",
      "}\r\n",
      "layer {\r\n",
      "  name: \"ip1_p\"\r\n",
      "  type: \"InnerProduct\"\r\n",
      "  bottom: \"data_p\"\r\n",
      "  top: \"ip1_p\"\r\n",
      "  param {\r\n",
      "    name: \"ip1_w\"\r\n",
      "    lr_mult: 1\r\n",
      "  }\r\n",
      "  param {\r\n",
      "    name: \"ip1_b\"\r\n",
      "    lr_mult: 2\r\n",
      "  }\r\n",
      "  inner_product_param {\r\n",
      "    num_output: 2\r\n",
      "    weight_filler {\r\n",
      "      type: \"xavier\"\r\n",
      "    }\r\n",
      "    bias_filler {\r\n",
      "      type: \"constant\"\r\n",
      "    }\r\n",
      "  }\r\n",
      "}\r\n",
      "layer {\r\n",
      "  name: \"relu1_p\"\r\n",
      "  type: \"ReLU\"\r\n",
      "  bottom: \"ip1_p\"\r\n",
      "  top: \"ip1_p\"\r\n",
      "}\r\n",
      "layer {\r\n",
      "  name: \"ip2_p\"\r\n",
      "  type: \"InnerProduct\"\r\n",
      "  bottom: \"ip1_p\"\r\n",
      "  top: \"ip2_p\"\r\n",
      "  param {\r\n",
      "    name: \"ip2_w\"\r\n",
      "    lr_mult: 1\r\n",
      "  }\r\n",
      "  param {\r\n",
      "    name: \"ip2_b\"\r\n",
      "    lr_mult: 2\r\n",
      "  }\r\n",
      "  inner_product_param {\r\n",
      "    num_output: 1\r\n",
      "    weight_filler {\r\n",
      "      type: \"xavier\"\r\n",
      "    }\r\n",
      "    bias_filler {\r\n",
      "      type: \"constant\"\r\n",
      "    }\r\n",
      "  }\r\n",
      "}\r\n",
      "layer {\r\n",
      "  name: \"loss\"\r\n",
      "  type: \"Python\"\r\n",
      "  bottom: \"ip2\"\r\n",
      "  bottom: \"ip2_p\"\r\n",
      "  top: \"loss\"\r\n",
      "  loss_weight: 1\r\n",
      "  python_param {\r\n",
      "    module: \"pyRankLoss\"\r\n",
      "    layer: \"RankingLossLayer\"\r\n",
      "    param_str: '{\"loss_weight\": 1,\"normalization\": 2}'\r\n",
      "  }\r\n",
      "}\r\n",
      "\r\n"
     ]
    }
   ],
   "source": [
    "!cat /workspace/Weather/siamese/siamese_train_val.prototxt"
   ]
  },
  {
   "cell_type": "code",
   "execution_count": 13,
   "metadata": {
    "collapsed": true
   },
   "outputs": [],
   "source": [
    "gpu_id = None\n",
    "if gpu_id != None:\n",
    "    caffe.set_device(0)  # if we have multiple GPUs, pick the first one\n",
    "    caffe.set_mode_gpu()\n",
    "else:\n",
    "    caffe.set_mode_cpu()"
   ]
  },
  {
   "cell_type": "code",
   "execution_count": 14,
   "metadata": {
    "collapsed": true
   },
   "outputs": [],
   "source": [
    "solver = None  # ignore this workaround for lmdb data (can't instantiate two solvers on the same data)\n",
    "solver = caffe.get_solver('/workspace/Weather/siamese/solver.prototxt')"
   ]
  },
  {
   "cell_type": "code",
   "execution_count": 15,
   "metadata": {},
   "outputs": [
    {
     "data": {
      "text/plain": [
       "[('data', (1, 3, 227, 227)),\n",
       " ('data_p', (1, 3, 227, 227)),\n",
       " ('ip1', (1, 2)),\n",
       " ('ip2', (1, 1)),\n",
       " ('ip1_p', (1, 2)),\n",
       " ('ip2_p', (1, 1)),\n",
       " ('loss', (1,))]"
      ]
     },
     "execution_count": 15,
     "metadata": {},
     "output_type": "execute_result"
    }
   ],
   "source": [
    "[(k, v.data.shape) for k, v in solver.net.blobs.items()]"
   ]
  },
  {
   "cell_type": "code",
   "execution_count": 16,
   "metadata": {
    "collapsed": true
   },
   "outputs": [],
   "source": [
    "solver.net.blobs['data'].data[...] = np.random.rand(1, 1, 227, 227)\n",
    "solver.net.blobs['data_p'].data[...] = np.random.rand(1, 1, 227, 227)"
   ]
  },
  {
   "cell_type": "code",
   "execution_count": 17,
   "metadata": {},
   "outputs": [
    {
     "name": "stdout",
     "output_type": "stream",
     "text": [
      "(1, 1)\n"
     ]
    },
    {
     "data": {
      "text/plain": [
       "{'loss': array([ 0.52990818], dtype=float32)}"
      ]
     },
     "execution_count": 17,
     "metadata": {},
     "output_type": "execute_result"
    }
   ],
   "source": [
    "solver.net.forward()  # train net"
   ]
  },
  {
   "cell_type": "code",
   "execution_count": 18,
   "metadata": {},
   "outputs": [
    {
     "name": "stdout",
     "output_type": "stream",
     "text": [
      "[[ 0.04412685]]\n",
      "[[ 0.16390245]]\n"
     ]
    }
   ],
   "source": [
    "print solver.net.blobs['ip2'].data\n",
    "print solver.net.blobs['ip2_p'].data"
   ]
  },
  {
   "cell_type": "code",
   "execution_count": 19,
   "metadata": {},
   "outputs": [
    {
     "name": "stdout",
     "output_type": "stream",
     "text": [
      "2\n",
      "bottom  0  is  (1, 1)\n",
      "bottom  1  is  (1, 1)\n"
     ]
    },
    {
     "data": {
      "text/plain": [
       "{'data': array([[[[ 0.,  0.,  0., ...,  0.,  0.,  0.],\n",
       "          [ 0.,  0.,  0., ...,  0.,  0.,  0.],\n",
       "          [ 0.,  0.,  0., ...,  0.,  0.,  0.],\n",
       "          ..., \n",
       "          [ 0.,  0.,  0., ...,  0.,  0.,  0.],\n",
       "          [ 0.,  0.,  0., ...,  0.,  0.,  0.],\n",
       "          [ 0.,  0.,  0., ...,  0.,  0.,  0.]],\n",
       " \n",
       "         [[ 0.,  0.,  0., ...,  0.,  0.,  0.],\n",
       "          [ 0.,  0.,  0., ...,  0.,  0.,  0.],\n",
       "          [ 0.,  0.,  0., ...,  0.,  0.,  0.],\n",
       "          ..., \n",
       "          [ 0.,  0.,  0., ...,  0.,  0.,  0.],\n",
       "          [ 0.,  0.,  0., ...,  0.,  0.,  0.],\n",
       "          [ 0.,  0.,  0., ...,  0.,  0.,  0.]],\n",
       " \n",
       "         [[ 0.,  0.,  0., ...,  0.,  0.,  0.],\n",
       "          [ 0.,  0.,  0., ...,  0.,  0.,  0.],\n",
       "          [ 0.,  0.,  0., ...,  0.,  0.,  0.],\n",
       "          ..., \n",
       "          [ 0.,  0.,  0., ...,  0.,  0.,  0.],\n",
       "          [ 0.,  0.,  0., ...,  0.,  0.,  0.],\n",
       "          [ 0.,  0.,  0., ...,  0.,  0.,  0.]]]], dtype=float32),\n",
       " 'data_p': array([[[[ 0.,  0.,  0., ...,  0.,  0.,  0.],\n",
       "          [ 0.,  0.,  0., ...,  0.,  0.,  0.],\n",
       "          [ 0.,  0.,  0., ...,  0.,  0.,  0.],\n",
       "          ..., \n",
       "          [ 0.,  0.,  0., ...,  0.,  0.,  0.],\n",
       "          [ 0.,  0.,  0., ...,  0.,  0.,  0.],\n",
       "          [ 0.,  0.,  0., ...,  0.,  0.,  0.]],\n",
       " \n",
       "         [[ 0.,  0.,  0., ...,  0.,  0.,  0.],\n",
       "          [ 0.,  0.,  0., ...,  0.,  0.,  0.],\n",
       "          [ 0.,  0.,  0., ...,  0.,  0.,  0.],\n",
       "          ..., \n",
       "          [ 0.,  0.,  0., ...,  0.,  0.,  0.],\n",
       "          [ 0.,  0.,  0., ...,  0.,  0.,  0.],\n",
       "          [ 0.,  0.,  0., ...,  0.,  0.,  0.]],\n",
       " \n",
       "         [[ 0.,  0.,  0., ...,  0.,  0.,  0.],\n",
       "          [ 0.,  0.,  0., ...,  0.,  0.,  0.],\n",
       "          [ 0.,  0.,  0., ...,  0.,  0.,  0.],\n",
       "          ..., \n",
       "          [ 0.,  0.,  0., ...,  0.,  0.,  0.],\n",
       "          [ 0.,  0.,  0., ...,  0.,  0.,  0.],\n",
       "          [ 0.,  0.,  0., ...,  0.,  0.,  0.]]]], dtype=float32)}"
      ]
     },
     "execution_count": 19,
     "metadata": {},
     "output_type": "execute_result"
    }
   ],
   "source": [
    "solver.net.backward()   # train net"
   ]
  },
  {
   "cell_type": "code",
   "execution_count": 23,
   "metadata": {},
   "outputs": [
    {
     "name": "stdout",
     "output_type": "stream",
     "text": [
      "[[-0.2491055]]\n",
      "[[ 0.2491055]]\n"
     ]
    }
   ],
   "source": [
    "print solver.net.blobs['ip2'].diff\n",
    "print solver.net.blobs['ip2_p'].diff"
   ]
  },
  {
   "cell_type": "code",
   "execution_count": null,
   "metadata": {
    "collapsed": true
   },
   "outputs": [],
   "source": []
  }
 ],
 "metadata": {
  "kernelspec": {
   "display_name": "Python 2",
   "language": "python",
   "name": "python2"
  },
  "language_info": {
   "codemirror_mode": {
    "name": "ipython",
    "version": 2
   },
   "file_extension": ".py",
   "mimetype": "text/x-python",
   "name": "python",
   "nbconvert_exporter": "python",
   "pygments_lexer": "ipython2",
   "version": "2.7.12"
  }
 },
 "nbformat": 4,
 "nbformat_minor": 2
}
